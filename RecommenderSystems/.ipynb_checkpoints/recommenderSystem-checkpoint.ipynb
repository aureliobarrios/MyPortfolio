{
 "cells": [
  {
   "cell_type": "markdown",
   "id": "528d5e5a",
   "metadata": {},
   "source": [
    "## Recommender System From Scratch \n",
    "\n",
    "#### By: Aurelio Barrios\n",
    "\n",
    "### What Is Shown In This Notebook\n",
    "\n",
    "This notebook is used after the `twitter_scraping.ipynb` file to build a recommender system from scratch using twitter scraped data. What you will find in this notebook is three implementations of a recommender system: a simple recommender that recommends whats popular, a user-based collaborative filtering recommender model and the final deployed item-based collaborative filtering recommender model. This model will take in Twitch streamers a user follows and will recommend other streamers based on these streamers. \n",
    "\n",
    "### Imports\n",
    "\n",
    "Load in necessary imports for the recommender system implementation."
   ]
  },
  {
   "cell_type": "code",
   "execution_count": 1,
   "id": "a0a1e39d",
   "metadata": {},
   "outputs": [],
   "source": [
    "import os\n",
    "import json\n",
    "import numpy as np\n",
    "import pandas as pd\n",
    "from collections import defaultdict\n",
    "from sklearn.metrics import pairwise_distances\n",
    "from scipy.spatial.distance import cosine"
   ]
  },
  {
   "cell_type": "markdown",
   "id": "db1e5ceb",
   "metadata": {},
   "source": [
    "### Data Preparation\n",
    "\n",
    "Here we build the data necessary to implement the recommender system. The data will be a list of lists, where every sublist is a representation of a user and the streamers that user follows. We can then use this list to build connections via user or item based collaborative filtering. "
   ]
  },
  {
   "cell_type": "code",
   "execution_count": 2,
   "id": "8fee41da",
   "metadata": {},
   "outputs": [
    {
     "data": {
      "text/html": [
       "<div>\n",
       "<style scoped>\n",
       "    .dataframe tbody tr th:only-of-type {\n",
       "        vertical-align: middle;\n",
       "    }\n",
       "\n",
       "    .dataframe tbody tr th {\n",
       "        vertical-align: top;\n",
       "    }\n",
       "\n",
       "    .dataframe thead th {\n",
       "        text-align: right;\n",
       "    }\n",
       "</style>\n",
       "<table border=\"1\" class=\"dataframe\">\n",
       "  <thead>\n",
       "    <tr style=\"text-align: right;\">\n",
       "      <th></th>\n",
       "      <th>channel</th>\n",
       "      <th>twitter_handle</th>\n",
       "    </tr>\n",
       "  </thead>\n",
       "  <tbody>\n",
       "    <tr>\n",
       "      <th>0</th>\n",
       "      <td>xQcOW</td>\n",
       "      <td>xQc</td>\n",
       "    </tr>\n",
       "    <tr>\n",
       "      <th>1</th>\n",
       "      <td>summit1g</td>\n",
       "      <td>summit1g</td>\n",
       "    </tr>\n",
       "    <tr>\n",
       "      <th>2</th>\n",
       "      <td>Tfue</td>\n",
       "      <td>Tfue</td>\n",
       "    </tr>\n",
       "    <tr>\n",
       "      <th>3</th>\n",
       "      <td>Asmongold</td>\n",
       "      <td>Asmongold</td>\n",
       "    </tr>\n",
       "    <tr>\n",
       "      <th>4</th>\n",
       "      <td>NICKMERCS</td>\n",
       "      <td>NICKMERCS</td>\n",
       "    </tr>\n",
       "  </tbody>\n",
       "</table>\n",
       "</div>"
      ],
      "text/plain": [
       "     channel twitter_handle\n",
       "0      xQcOW            xQc\n",
       "1   summit1g       summit1g\n",
       "2       Tfue           Tfue\n",
       "3  Asmongold      Asmongold\n",
       "4  NICKMERCS      NICKMERCS"
      ]
     },
     "execution_count": 2,
     "metadata": {},
     "output_type": "execute_result"
    }
   ],
   "source": [
    "#read in twitch streamer twitter handle dataset\n",
    "twitch_df = pd.read_csv('data/twitter_handles.csv')\n",
    "twitch_df.head()"
   ]
  },
  {
   "cell_type": "code",
   "execution_count": 3,
   "id": "6146e720",
   "metadata": {},
   "outputs": [],
   "source": [
    "#get a list of all the unique streamers twitter handles\n",
    "streamers = sorted(list(twitch_df['twitter_handle']))\n",
    "\n",
    "#helper function to find streamers amongst twitter handles\n",
    "def include_streamer(name, handles=streamers):\n",
    "    if name in handles:\n",
    "        return True\n",
    "    return False"
   ]
  },
  {
   "cell_type": "code",
   "execution_count": null,
   "id": "a28a350d",
   "metadata": {},
   "outputs": [],
   "source": [
    "#build streamer connection data for recommendor\n",
    "streamer_data = []\n",
    "#gather datasets from each streamer\n",
    "for streamer in twitch_df['twitter_handle']:\n",
    "    outdir = 'data/streamers/' + streamer\n",
    "    if os.path.exists(outdir):        \n",
    "        #loop through all the files in this directory\n",
    "        for file in os.listdir(outdir):\n",
    "            filename = outdir + '/' + file\n",
    "            if file[-4:] == '.csv' and os.path.getsize(filename) > 20:\n",
    "                #read in dataset\n",
    "                curr_df = pd.read_csv(filename)\n",
    "                curr_df['include'] = curr_df['screen_name'].apply(include_streamer)\n",
    "                curr_df = curr_df[curr_df['include']]\n",
    "                #get the streamers they follow\n",
    "                streamers_list = list(curr_df['screen_name'])\n",
    "                if streamer not in streamers_list:\n",
    "                    streamers_list.append(streamer)\n",
    "                if len(streamers_list) > 1:\n",
    "                    streamer_data.append(streamers_list)\n",
    "            else:\n",
    "                print(filename)"
   ]
  },
  {
   "cell_type": "code",
   "execution_count": null,
   "id": "8ac5d81f",
   "metadata": {},
   "outputs": [],
   "source": [
    "#save dataset for easier access in the future\n",
    "with open('data/outfiles/connections.json', 'w') as f:\n",
    "    json.dump(streamer_data, f)"
   ]
  },
  {
   "cell_type": "code",
   "execution_count": 4,
   "id": "7fd81949",
   "metadata": {},
   "outputs": [],
   "source": [
    "streamer_data = json.load(open('data/outfiles/connections.json'))"
   ]
  },
  {
   "cell_type": "code",
   "execution_count": 5,
   "id": "6ba8ca35",
   "metadata": {},
   "outputs": [],
   "source": [
    "#build columns for twitch dataset\n",
    "twitch_df['lower_handles'] = twitch_df['twitter_handle'].apply(lambda x: x.lower())\n",
    "twitch_df['lower_channel'] = twitch_df['channel'].apply(lambda x: x.lower())"
   ]
  },
  {
   "cell_type": "code",
   "execution_count": null,
   "id": "3198e5f2",
   "metadata": {},
   "outputs": [],
   "source": [
    "#save our twitch dataset to file for easy access\n",
    "twitch_df.to_csv('data/outfiles/twitch_data.csv', index=False)"
   ]
  },
  {
   "cell_type": "markdown",
   "id": "008224b5",
   "metadata": {},
   "source": [
    "### Recommendor One: Popularity \n",
    "\n",
    "The first recommender that we will build from scratch is a recommender that simply recommends what is popular and which the current user is not already following. This is a simple approach and therefore may not be the best recommender. The only scenario where this recommender would make sense would be in an instance where we have a new user from which we dont have enough data, recommending whats popular would be a safe bet in this case."
   ]
  },
  {
   "cell_type": "code",
   "execution_count": 6,
   "id": "ea7c460f",
   "metadata": {},
   "outputs": [],
   "source": [
    "from collections import Counter\n",
    "\n",
    "#gets the most popular streamers observed\n",
    "popular = Counter(streamer for stream_list in streamer_data for streamer in stream_list).most_common()"
   ]
  },
  {
   "cell_type": "code",
   "execution_count": 7,
   "id": "d2cf1723",
   "metadata": {},
   "outputs": [],
   "source": [
    "#helper function that recommends the popular streamers a user is not already interested in\n",
    "def recommend_popular(streamers, num_streamers=5):\n",
    "    recommended = [streamer for streamer, _ in popular if streamer not in streamers]\n",
    "    return recommended[:num_streamers]"
   ]
  },
  {
   "cell_type": "code",
   "execution_count": 8,
   "id": "6baef50c",
   "metadata": {},
   "outputs": [
    {
     "data": {
      "text/plain": [
       "['fuslie', 'xQc', 'Sykkuno', 'Thebuddha_3', 'AnthonyZ1O', 'cyr', 'summit1g']"
      ]
     },
     "execution_count": 8,
     "metadata": {},
     "output_type": "execute_result"
    }
   ],
   "source": [
    "#see which streamers user 9 follows\n",
    "streamer_data[9]"
   ]
  },
  {
   "cell_type": "code",
   "execution_count": 9,
   "id": "a34c18cc",
   "metadata": {},
   "outputs": [
    {
     "data": {
      "text/plain": [
       "['pokimanelol', 'NICKMERCS', 'Tfue', 'shroud', 'Myth_']"
      ]
     },
     "execution_count": 9,
     "metadata": {},
     "output_type": "execute_result"
    }
   ],
   "source": [
    "#recommend popular streamers user 9 does not follow already\n",
    "recommend_popular(streamer_data[9])"
   ]
  },
  {
   "cell_type": "markdown",
   "id": "39b15681",
   "metadata": {},
   "source": [
    "### Recommendor Two: User-Based Collaborative Filtering\n",
    "\n",
    "The second recommender system is more intuitive and therefore provides better recommendations. In this recommender system we are looking for similarities between users. When we have a user we try to find users that are somehow similar to him and then based on this we recommend streamers that those users are interested in, for which the primary user is not already interested in. They key here is to measure the similarity between users and to do this we use the cosine similarity metric, defined below."
   ]
  },
  {
   "cell_type": "code",
   "execution_count": 10,
   "id": "1b99cf82",
   "metadata": {},
   "outputs": [],
   "source": [
    "from scipy import spatial\n",
    "#helper function to find the cosine similarity between two vectors\n",
    "def similarity(v, w):\n",
    "    return 1 - spatial.distance.cosine(v, w)"
   ]
  },
  {
   "cell_type": "code",
   "execution_count": 11,
   "id": "85bdca2e",
   "metadata": {},
   "outputs": [],
   "source": [
    "#helper function to build followed streamer vector\n",
    "def build_vector(streamer_list):\n",
    "    return np.array([1 if streamer in streamer_list else 0 for streamer in streamers])"
   ]
  },
  {
   "cell_type": "code",
   "execution_count": 12,
   "id": "41d70047",
   "metadata": {},
   "outputs": [],
   "source": [
    "#build matrix holding one hot encoding of followed streamer vector for every user\n",
    "streamer_matrix = np.array(list((map(build_vector, streamer_data))))"
   ]
  },
  {
   "cell_type": "code",
   "execution_count": 13,
   "id": "4fd48d7a",
   "metadata": {},
   "outputs": [],
   "source": [
    "#get the similarities between each user\n",
    "users = 1 - pairwise_distances(streamer_matrix, metric='cosine')"
   ]
  },
  {
   "cell_type": "code",
   "execution_count": 14,
   "id": "7a311205",
   "metadata": {},
   "outputs": [
    {
     "data": {
      "text/plain": [
       "0.18257418583505536"
      ]
     },
     "execution_count": 14,
     "metadata": {},
     "output_type": "execute_result"
    }
   ],
   "source": [
    "#here we see the similarity rating between user 38 and user 36\n",
    "users[38][36]"
   ]
  },
  {
   "cell_type": "code",
   "execution_count": 15,
   "id": "71cb0c36",
   "metadata": {},
   "outputs": [],
   "source": [
    "#function that returns the most similar users to the current user\n",
    "def get_similar_users(curr_user):\n",
    "    #get other users and their similarity ratings to the current user\n",
    "    user_pairs = [(other_user, similarity) \n",
    "                  for other_user, similarity in enumerate(users[curr_user]) \n",
    "                  if curr_user != other_user and similarity > 0]\n",
    "    return sorted(user_pairs, key=lambda x: x[1], reverse=True)"
   ]
  },
  {
   "cell_type": "code",
   "execution_count": 16,
   "id": "0f2403f5",
   "metadata": {},
   "outputs": [],
   "source": [
    "#function that recommends using user-based collaborative filtering\n",
    "def recommend_user(curr_user, add_streamers_followed=False, num_rec=5):\n",
    "    rec_streamers = defaultdict(float)\n",
    "    for other_user, similarity in get_similar_users(curr_user):\n",
    "        for streamer in streamer_data[other_user]:\n",
    "            rec_streamers[streamer] += similarity\n",
    "    rec_streamers = sorted(rec_streamers.items(), key=lambda x: x[1], reverse=True)\n",
    "    if add_streamers_followed:\n",
    "        return [streamer for streamer, _ in rec_streamers][:num_rec]\n",
    "    else:\n",
    "        return [streamer for streamer, _ in rec_streamers\n",
    "               if streamer not in streamer_data[curr_user]][:num_rec]"
   ]
  },
  {
   "cell_type": "code",
   "execution_count": 17,
   "id": "7ab91db2",
   "metadata": {},
   "outputs": [
    {
     "data": {
      "text/plain": [
       "['fuslie', 'xQc', 'Sykkuno', 'Thebuddha_3', 'AnthonyZ1O', 'cyr', 'summit1g']"
      ]
     },
     "execution_count": 17,
     "metadata": {},
     "output_type": "execute_result"
    }
   ],
   "source": [
    "#see which streamers user 9 follows\n",
    "streamer_data[9]"
   ]
  },
  {
   "cell_type": "code",
   "execution_count": 18,
   "id": "eb2e6cd5",
   "metadata": {},
   "outputs": [
    {
     "data": {
      "text/plain": [
       "['pokimanelol', 'LilyPichu', 'REALMizkif', 'QuarterJade', 'shroud']"
      ]
     },
     "execution_count": 18,
     "metadata": {},
     "output_type": "execute_result"
    }
   ],
   "source": [
    "#recommend 5 streamers using user-based filtering\n",
    "recommend_user(9)"
   ]
  },
  {
   "cell_type": "markdown",
   "id": "3d7e380b",
   "metadata": {},
   "source": [
    "### Recommender Three: Item-Based Collaborative Filtering\n",
    "\n",
    "The third recommender and the recommender deployed on the website for this project is an item-based collaborative filtering recommender. This recommender handles the fall backs of a user-based recommender because when we have a vector space that is large this means that the distances between each vector is large. This means that in some cases a user that is most similar to another user within a large vector space would most likely not be that similar to the user at all. Rather than deal with this large vector space we can recommend using similarities in the items of a user. So instead of recommending based on similar users we recommend by aggregating interests that are similar to the users current interests."
   ]
  },
  {
   "cell_type": "code",
   "execution_count": 19,
   "id": "705b2119",
   "metadata": {},
   "outputs": [],
   "source": [
    "#build matrix that stores wether streamer(item) i is followed by user j\n",
    "# streamer_items[i][j] = 1 , if streamer i is followed by user j\n",
    "# transpose of streamer_matrix\n",
    "item_matrix = np.array([[streams_followed[i] for streams_followed in streamer_matrix] \n",
    "                  for i, _ in enumerate(streamers)])"
   ]
  },
  {
   "cell_type": "code",
   "execution_count": 20,
   "id": "46a26fec",
   "metadata": {},
   "outputs": [],
   "source": [
    "#get the similarities between each streamer(item) rather than user\n",
    "items = 1 - pairwise_distances(item_matrix, metric='cosine')"
   ]
  },
  {
   "cell_type": "code",
   "execution_count": 21,
   "id": "58bc0322",
   "metadata": {},
   "outputs": [
    {
     "data": {
      "text/plain": [
       "0.019596545041740465"
      ]
     },
     "execution_count": 21,
     "metadata": {},
     "output_type": "execute_result"
    }
   ],
   "source": [
    "#here we see the similarity rating between streamer 20 and streamer 10\n",
    "items[20][10]"
   ]
  },
  {
   "cell_type": "code",
   "execution_count": 22,
   "id": "d18508ca",
   "metadata": {},
   "outputs": [],
   "source": [
    "#function that returns most similar items(streamer) to the current item(current streamer)\n",
    "def get_similar_items(curr_item):\n",
    "    item_pairs = [(streamers[other_item], similarity)\n",
    "                 for other_item, similarity in enumerate(items[curr_item])\n",
    "                 if curr_item != other_item and similarity > 0]\n",
    "    return sorted(item_pairs, key=lambda x: x[1], reverse=True)"
   ]
  },
  {
   "cell_type": "code",
   "execution_count": 23,
   "id": "a7c136b5",
   "metadata": {},
   "outputs": [],
   "source": [
    "#function that recommends using item-based filtering\n",
    "def recommend_item(curr_user, add_self_items=False, num_rec=5):\n",
    "    rec_streamers = defaultdict(float)\n",
    "    curr_user_streamers = streamer_matrix[curr_user]\n",
    "    for curr_item, follows in enumerate(curr_user_streamers):\n",
    "        if follows:\n",
    "            similar_streams = get_similar_items(curr_item)\n",
    "            for streamer, similarity in similar_streams:\n",
    "                rec_streamers[streamer] += similarity\n",
    "    rec_streamers = sorted(rec_streamers.items(), key=lambda x: x[1], reverse=True)\n",
    "    if add_self_items:\n",
    "        return [streamer for streamer, _ in rec_streamers][:num_rec]\n",
    "    else:\n",
    "        return [streamer for streamer, _ in rec_streamers\n",
    "               if streamer not in streamer_data[curr_user]][:num_rec]"
   ]
  },
  {
   "cell_type": "code",
   "execution_count": 24,
   "id": "4afc8c6f",
   "metadata": {},
   "outputs": [
    {
     "data": {
      "text/plain": [
       "['fuslie', 'xQc', 'Sykkuno', 'Thebuddha_3', 'AnthonyZ1O', 'cyr', 'summit1g']"
      ]
     },
     "execution_count": 24,
     "metadata": {},
     "output_type": "execute_result"
    }
   ],
   "source": [
    "#see which streamers user 9 follows\n",
    "streamer_data[9]"
   ]
  },
  {
   "cell_type": "code",
   "execution_count": 25,
   "id": "2724d1e8",
   "metadata": {},
   "outputs": [
    {
     "data": {
      "text/plain": [
       "['LilyPichu', 'QuarterJade', 'Curtisryan__', 'pokimanelol', 'REALMizkif']"
      ]
     },
     "execution_count": 25,
     "metadata": {},
     "output_type": "execute_result"
    }
   ],
   "source": [
    "#recommend five streamers using item-based filtering\n",
    "recommend_item(9)"
   ]
  }
 ],
 "metadata": {
  "kernelspec": {
   "display_name": "Python 3",
   "language": "python",
   "name": "python3"
  },
  "language_info": {
   "codemirror_mode": {
    "name": "ipython",
    "version": 3
   },
   "file_extension": ".py",
   "mimetype": "text/x-python",
   "name": "python",
   "nbconvert_exporter": "python",
   "pygments_lexer": "ipython3",
   "version": "3.8.5"
  }
 },
 "nbformat": 4,
 "nbformat_minor": 5
}
