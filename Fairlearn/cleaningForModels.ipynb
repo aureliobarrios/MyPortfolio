{
 "cells": [
  {
   "cell_type": "markdown",
   "id": "3a02c9e9",
   "metadata": {},
   "source": [
    "# Building A Fair Mahine Learning Model Using Reduction & Threshold Techniques For Loan Acceptance Prediction\n",
    "\n",
    "#### Maintaining Accuracy While Providing Fairness in Loan Acceptance For Sensitive Attributes Like Race & Sex\n",
    "\n",
    "##### By: Aurelio Barrios\n",
    "\n",
    "## What is Shown In This Notebook\n",
    "\n",
    "This is the introduction notebook for this project were I clean raw data and prepare it for machine learning and fairlearn models. This notebook will be followed by another notebook that will deploy the machine learning and fairlearn models.\n",
    "\n",
    "## What is Shown In This Project\n",
    "\n",
    "- **Domain Of Project**\n",
    "    - Domain for this project is related to financing and loan approval. The project will use data on loan acceptance to create machine learning models for future decisions, but will incorporate fairlearn models to make sure that the machine learning models deployed maintain fairness across race and sex.\n",
    "- **Machine Learning Task**\n",
    "    - Binary classification. Predict wether to accept or decline a loan application. \n",
    "- **Metrics**\n",
    "    - The machine learning models will be evaluated using accuracy.\n",
    "    - The fairlearn models will be evaluated using the following\n",
    "        - Demographic parity difference\n",
    "        - Equalized odds difference\n",
    "        - Demographic parity ratio\n",
    "\n",
    "### Imports"
   ]
  },
  {
   "cell_type": "code",
   "execution_count": 1,
   "id": "a7a49f87",
   "metadata": {},
   "outputs": [],
   "source": [
    "import pandas as pd\n",
    "import numpy as np\n",
    "\n",
    "import warnings\n",
    "warnings.filterwarnings('ignore')"
   ]
  },
  {
   "cell_type": "markdown",
   "id": "bf6103f6",
   "metadata": {},
   "source": [
    "### Data Handling \n",
    "\n",
    "The data that is being used for this project is part of the California Home Mortgage Disclosure Act (HMDA). This dataset contains public loan data for the year of 2017 in the state of California. The points of interest in this dataset are attributes which record if a certain loan was accepted or rejected. This is important in order to analyze how loan acceptance rates vary with sensitive attributes such as race and sex.\n",
    "\n",
    "There were a large number of missing values in this dataset, therefore columns which had large number of missing values were removed along with rows. This was a fairly large dataset so removing these rows still left a completely workable dataset."
   ]
  },
  {
   "cell_type": "code",
   "execution_count": 2,
   "id": "f21c247c",
   "metadata": {},
   "outputs": [],
   "source": [
    "df = pd.read_csv('data/ca_hmda17.csv')"
   ]
  },
  {
   "cell_type": "code",
   "execution_count": 3,
   "id": "145153d9",
   "metadata": {},
   "outputs": [
    {
     "data": {
      "text/html": [
       "<div>\n",
       "<style scoped>\n",
       "    .dataframe tbody tr th:only-of-type {\n",
       "        vertical-align: middle;\n",
       "    }\n",
       "\n",
       "    .dataframe tbody tr th {\n",
       "        vertical-align: top;\n",
       "    }\n",
       "\n",
       "    .dataframe thead th {\n",
       "        text-align: right;\n",
       "    }\n",
       "</style>\n",
       "<table border=\"1\" class=\"dataframe\">\n",
       "  <thead>\n",
       "    <tr style=\"text-align: right;\">\n",
       "      <th></th>\n",
       "      <th>sum</th>\n",
       "    </tr>\n",
       "  </thead>\n",
       "  <tbody>\n",
       "    <tr>\n",
       "      <th>as_of_year</th>\n",
       "      <td>0</td>\n",
       "    </tr>\n",
       "    <tr>\n",
       "      <th>respondent_id</th>\n",
       "      <td>0</td>\n",
       "    </tr>\n",
       "    <tr>\n",
       "      <th>agency_name</th>\n",
       "      <td>0</td>\n",
       "    </tr>\n",
       "    <tr>\n",
       "      <th>agency_abbr</th>\n",
       "      <td>0</td>\n",
       "    </tr>\n",
       "    <tr>\n",
       "      <th>agency_code</th>\n",
       "      <td>0</td>\n",
       "    </tr>\n",
       "    <tr>\n",
       "      <th>...</th>\n",
       "      <td>...</td>\n",
       "    </tr>\n",
       "    <tr>\n",
       "      <th>hud_median_family_income</th>\n",
       "      <td>7461</td>\n",
       "    </tr>\n",
       "    <tr>\n",
       "      <th>tract_to_msamd_income</th>\n",
       "      <td>7461</td>\n",
       "    </tr>\n",
       "    <tr>\n",
       "      <th>number_of_owner_occupied_units</th>\n",
       "      <td>7461</td>\n",
       "    </tr>\n",
       "    <tr>\n",
       "      <th>number_of_1_to_4_family_units</th>\n",
       "      <td>7461</td>\n",
       "    </tr>\n",
       "    <tr>\n",
       "      <th>application_date_indicator</th>\n",
       "      <td>1714459</td>\n",
       "    </tr>\n",
       "  </tbody>\n",
       "</table>\n",
       "<p>78 rows × 1 columns</p>\n",
       "</div>"
      ],
      "text/plain": [
       "                                    sum\n",
       "as_of_year                            0\n",
       "respondent_id                         0\n",
       "agency_name                           0\n",
       "agency_abbr                           0\n",
       "agency_code                           0\n",
       "...                                 ...\n",
       "hud_median_family_income           7461\n",
       "tract_to_msamd_income              7461\n",
       "number_of_owner_occupied_units     7461\n",
       "number_of_1_to_4_family_units      7461\n",
       "application_date_indicator      1714459\n",
       "\n",
       "[78 rows x 1 columns]"
      ]
     },
     "execution_count": 3,
     "metadata": {},
     "output_type": "execute_result"
    }
   ],
   "source": [
    "#shows the sum amount of missing values per column\n",
    "df.isnull().sum().to_frame('sum')"
   ]
  },
  {
   "cell_type": "code",
   "execution_count": 4,
   "id": "50426a69",
   "metadata": {},
   "outputs": [],
   "source": [
    "#these columns have most if not all values missing\n",
    "s_df = df.isnull().sum().to_frame('sum')\n",
    "\n",
    "drop_cols = list(s_df[s_df['sum'] > 1000000].index)\n",
    "\n",
    "df = df.drop(drop_cols, axis=1)"
   ]
  },
  {
   "cell_type": "code",
   "execution_count": 5,
   "id": "767e94e6",
   "metadata": {},
   "outputs": [],
   "source": [
    "#remove rows that have missing values\n",
    "df = df.dropna()"
   ]
  },
  {
   "cell_type": "code",
   "execution_count": 6,
   "id": "0a749949",
   "metadata": {},
   "outputs": [],
   "source": [
    "#removed duplicate columns\n",
    "repeat_cols = ['as_of_year', 'respondent_id', 'agency_name', 'agency_code',\n",
    "              'state_name', 'state_abbr', 'state_code', 'county_code']\n",
    "for i in df.columns:\n",
    "    if i +'_name' in df.columns:\n",
    "        repeat_cols.append(i)       \n",
    "        \n",
    "df = df.drop(repeat_cols, axis=1)"
   ]
  },
  {
   "cell_type": "code",
   "execution_count": 7,
   "id": "5af60576",
   "metadata": {},
   "outputs": [],
   "source": [
    "#saved the clean dataset into a csv so that it was easier to access in the future\n",
    "# df.to_csv('data/ca_clean.csv', index=False)"
   ]
  },
  {
   "cell_type": "code",
   "execution_count": 8,
   "id": "8accddc6",
   "metadata": {},
   "outputs": [
    {
     "data": {
      "text/plain": [
       "White                                                                                903076\n",
       "Information not provided by applicant in mail, Internet, or telephone application    242517\n",
       "Asian                                                                                203556\n",
       "Black or African American                                                             62957\n",
       "Not applicable                                                                        35239\n",
       "Native Hawaiian or Other Pacific Islander                                             15258\n",
       "American Indian or Alaska Native                                                      14193\n",
       "Name: applicant_race_name_1, dtype: int64"
      ]
     },
     "execution_count": 8,
     "metadata": {},
     "output_type": "execute_result"
    }
   ],
   "source": [
    "#here we can see the number of applicants per race\n",
    "df['applicant_race_name_1'].value_counts()"
   ]
  },
  {
   "cell_type": "markdown",
   "id": "5cf79fa2",
   "metadata": {},
   "source": [
    "I will be using the [fairlearn package](https://fairlearn.org). This is a package that aims to establish fairness in machine learning algorithms and AI systems. In order to use this package I must clean the data so that we can apply the fairlearn models."
   ]
  },
  {
   "cell_type": "code",
   "execution_count": 9,
   "id": "4e2c9d8b",
   "metadata": {},
   "outputs": [],
   "source": [
    "#CLEANING FOR SEX MODEL\n",
    "\n",
    "drop_cols = []\n",
    "for i in df.columns:\n",
    "    if 'race' in i:\n",
    "        if i != 'applicant_race_name_1':\n",
    "            drop_cols.append(i)\n",
    "    elif 'ethnicity' in i:\n",
    "        drop_cols.append(i)\n",
    "        \n",
    "#drop columns that are sensitive and not used for this model\n",
    "df = df.drop(drop_cols, axis=1)"
   ]
  },
  {
   "cell_type": "code",
   "execution_count": 10,
   "id": "032c922c",
   "metadata": {},
   "outputs": [],
   "source": [
    "df = df.drop(['co_applicant_sex_name'], axis=1)"
   ]
  },
  {
   "cell_type": "code",
   "execution_count": 11,
   "id": "95cff410",
   "metadata": {},
   "outputs": [],
   "source": [
    "#create integer target for FairLearn which will be needed later\n",
    "int_target = {'Loan originated': 1, 'Application denied by financial institution': 0}\n",
    "\n",
    "def target_helper(action):\n",
    "    if action in int_target:\n",
    "        return int_target[action]\n",
    "    return -1\n",
    "\n",
    "df['target'] = df['action_taken_name'].apply(target_helper)\n",
    "\n",
    "df = df[df['target'] >= 0].reset_index(drop=True)\n",
    "\n",
    "df = df.drop(['action_taken_name'], axis=1)"
   ]
  },
  {
   "cell_type": "code",
   "execution_count": 12,
   "id": "63e4e1fc",
   "metadata": {},
   "outputs": [],
   "source": [
    "#gather only individuals that have stated their sex in order to perform analysis\n",
    "df = df[df['applicant_sex_name'].isin(['Male', 'Female'])]"
   ]
  },
  {
   "cell_type": "code",
   "execution_count": 13,
   "id": "75a4cbde",
   "metadata": {},
   "outputs": [],
   "source": [
    "#save the data for future access\n",
    "# df.to_csv('data/race2_model.csv', index=False)\n",
    "# df.to_csv('data/sex_model.csv', index=False)"
   ]
  },
  {
   "cell_type": "code",
   "execution_count": null,
   "id": "d832e8c2",
   "metadata": {},
   "outputs": [],
   "source": []
  }
 ],
 "metadata": {
  "kernelspec": {
   "display_name": "Python 3",
   "language": "python",
   "name": "python3"
  },
  "language_info": {
   "codemirror_mode": {
    "name": "ipython",
    "version": 3
   },
   "file_extension": ".py",
   "mimetype": "text/x-python",
   "name": "python",
   "nbconvert_exporter": "python",
   "pygments_lexer": "ipython3",
   "version": "3.8.5"
  }
 },
 "nbformat": 4,
 "nbformat_minor": 5
}
