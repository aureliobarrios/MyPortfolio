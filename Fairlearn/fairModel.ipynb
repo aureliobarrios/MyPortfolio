{
 "cells": [
  {
   "cell_type": "markdown",
   "id": "c808c0f0",
   "metadata": {},
   "source": [
    "# Building A Fair Mahine Learning Model Using Reduction & Threshold Techniques For Loan Acceptance Prediction\n",
    "\n",
    "#### Maintaining Accuracy While Providing Fairness in Loan Acceptance For Sensitive Attributes Like Race & Sex\n",
    "\n",
    "##### By: Aurelio Barrios\n",
    "\n",
    "## What is Shown In This Notebook\n",
    "\n",
    "This is the notebook that will display the first of two machine learning models. This model will focus on fair loan acceptance rates across the sensitive attribute race. Then the model will further aim to provide fairness not only across race but fairness across sex within each race.\n",
    "\n",
    "## What is Shown In This Project\n",
    "\n",
    "- **Domain Of Project**\n",
    "    - Domain for this project is related to financing and loan approval. The project will use data on loan acceptance to create machine learning models for future decisions, but will incorporate fairlearn models to make sure that the machine learning models deployed maintain fairness across race and sex.\n",
    "- **Machine Learning Task**\n",
    "    - Binary classification. Predict wether to accept or decline a loan application. \n",
    "- **Metrics**\n",
    "    - The machine learning models will be evaluated using accuracy.\n",
    "    - The fairlearn models will be evaluated using the following\n",
    "        - Demographic parity difference\n",
    "        - Equalized odds difference\n",
    "        - Demographic parity ratio\n",
    "        \n",
    "### Imports"
   ]
  },
  {
   "cell_type": "code",
   "execution_count": 37,
   "id": "5162c430",
   "metadata": {},
   "outputs": [],
   "source": [
    "#General imports\n",
    "import pandas as pd\n",
    "\n",
    "#Visualization imports\n",
    "import matplotlib.pyplot as plt\n",
    "\n",
    "#Machine Learning imports\n",
    "from sklearn.model_selection import train_test_split\n",
    "from sklearn.tree import DecisionTreeClassifier\n",
    "from sklearn.metrics import accuracy_score\n",
    "\n",
    "#Fairlearn imports\n",
    "from fairlearn.metrics import group_summary\n",
    "from fairlearn.metrics import demographic_parity_difference, equalized_odds_difference, demographic_parity_ratio\n",
    "from fairlearn.metrics import difference_from_summary\n",
    "from fairlearn.postprocessing import ThresholdOptimizer\n",
    "from fairlearn.postprocessing import plot_threshold_optimizer\n",
    "from fairlearn.reductions import ExponentiatedGradient, EqualizedOdds, DemographicParity\n",
    "from fairlearn.widget import FairlearnDashboard\n",
    "\n",
    "import warnings\n",
    "warnings.filterwarnings('ignore')"
   ]
  },
  {
   "cell_type": "markdown",
   "id": "9c7d3e93",
   "metadata": {},
   "source": [
    "### Data Reading & More Cleaning"
   ]
  },
  {
   "cell_type": "code",
   "execution_count": 4,
   "id": "fcf9b612",
   "metadata": {},
   "outputs": [
    {
     "data": {
      "text/html": [
       "<div>\n",
       "<style scoped>\n",
       "    .dataframe tbody tr th:only-of-type {\n",
       "        vertical-align: middle;\n",
       "    }\n",
       "\n",
       "    .dataframe tbody tr th {\n",
       "        vertical-align: top;\n",
       "    }\n",
       "\n",
       "    .dataframe thead th {\n",
       "        text-align: right;\n",
       "    }\n",
       "</style>\n",
       "<table border=\"1\" class=\"dataframe\">\n",
       "  <thead>\n",
       "    <tr style=\"text-align: right;\">\n",
       "      <th></th>\n",
       "      <th>agency_abbr</th>\n",
       "      <th>loan_type_name</th>\n",
       "      <th>property_type_name</th>\n",
       "      <th>loan_purpose_name</th>\n",
       "      <th>owner_occupancy_name</th>\n",
       "      <th>loan_amount_000s</th>\n",
       "      <th>preapproval_name</th>\n",
       "      <th>msamd_name</th>\n",
       "      <th>county_name</th>\n",
       "      <th>census_tract_number</th>\n",
       "      <th>...</th>\n",
       "      <th>purchaser_type_name</th>\n",
       "      <th>hoepa_status_name</th>\n",
       "      <th>lien_status_name</th>\n",
       "      <th>population</th>\n",
       "      <th>minority_population</th>\n",
       "      <th>hud_median_family_income</th>\n",
       "      <th>tract_to_msamd_income</th>\n",
       "      <th>number_of_owner_occupied_units</th>\n",
       "      <th>number_of_1_to_4_family_units</th>\n",
       "      <th>target</th>\n",
       "    </tr>\n",
       "  </thead>\n",
       "  <tbody>\n",
       "    <tr>\n",
       "      <th>0</th>\n",
       "      <td>CFPB</td>\n",
       "      <td>Conventional</td>\n",
       "      <td>One-to-four family dwelling (other than manufa...</td>\n",
       "      <td>Home improvement</td>\n",
       "      <td>Owner-occupied as a principal dwelling</td>\n",
       "      <td>570.0</td>\n",
       "      <td>Not applicable</td>\n",
       "      <td>Sacramento, Roseville, Arden-Arcade - CA</td>\n",
       "      <td>Sacramento County</td>\n",
       "      <td>61.01</td>\n",
       "      <td>...</td>\n",
       "      <td>Loan was not originated or was not sold in cal...</td>\n",
       "      <td>Not a HOEPA loan</td>\n",
       "      <td>Secured by a first lien</td>\n",
       "      <td>4824.0</td>\n",
       "      <td>37.230000</td>\n",
       "      <td>75200.0</td>\n",
       "      <td>57.419998</td>\n",
       "      <td>818.0</td>\n",
       "      <td>1626.0</td>\n",
       "      <td>0</td>\n",
       "    </tr>\n",
       "    <tr>\n",
       "      <th>1</th>\n",
       "      <td>CFPB</td>\n",
       "      <td>Conventional</td>\n",
       "      <td>One-to-four family dwelling (other than manufa...</td>\n",
       "      <td>Home purchase</td>\n",
       "      <td>Not owner-occupied as a principal dwelling</td>\n",
       "      <td>185.0</td>\n",
       "      <td>Not applicable</td>\n",
       "      <td>Riverside, San Bernardino, Ontario - CA</td>\n",
       "      <td>Riverside County</td>\n",
       "      <td>432.27</td>\n",
       "      <td>...</td>\n",
       "      <td>Loan was not originated or was not sold in cal...</td>\n",
       "      <td>Not a HOEPA loan</td>\n",
       "      <td>Secured by a first lien</td>\n",
       "      <td>7404.0</td>\n",
       "      <td>57.520000</td>\n",
       "      <td>63200.0</td>\n",
       "      <td>116.010002</td>\n",
       "      <td>1215.0</td>\n",
       "      <td>1743.0</td>\n",
       "      <td>0</td>\n",
       "    </tr>\n",
       "    <tr>\n",
       "      <th>2</th>\n",
       "      <td>HUD</td>\n",
       "      <td>Conventional</td>\n",
       "      <td>One-to-four family dwelling (other than manufa...</td>\n",
       "      <td>Refinancing</td>\n",
       "      <td>Owner-occupied as a principal dwelling</td>\n",
       "      <td>417.0</td>\n",
       "      <td>Not applicable</td>\n",
       "      <td>Oakland, Hayward, Berkeley - CA</td>\n",
       "      <td>Contra Costa County</td>\n",
       "      <td>3020.08</td>\n",
       "      <td>...</td>\n",
       "      <td>Loan was not originated or was not sold in cal...</td>\n",
       "      <td>Not a HOEPA loan</td>\n",
       "      <td>Secured by a first lien</td>\n",
       "      <td>8787.0</td>\n",
       "      <td>65.129997</td>\n",
       "      <td>97400.0</td>\n",
       "      <td>97.269997</td>\n",
       "      <td>1463.0</td>\n",
       "      <td>2164.0</td>\n",
       "      <td>0</td>\n",
       "    </tr>\n",
       "    <tr>\n",
       "      <th>3</th>\n",
       "      <td>HUD</td>\n",
       "      <td>FHA-insured</td>\n",
       "      <td>One-to-four family dwelling (other than manufa...</td>\n",
       "      <td>Home purchase</td>\n",
       "      <td>Owner-occupied as a principal dwelling</td>\n",
       "      <td>325.0</td>\n",
       "      <td>Not applicable</td>\n",
       "      <td>Riverside, San Bernardino, Ontario - CA</td>\n",
       "      <td>Riverside County</td>\n",
       "      <td>432.20</td>\n",
       "      <td>...</td>\n",
       "      <td>Commercial bank, savings bank or savings assoc...</td>\n",
       "      <td>Not a HOEPA loan</td>\n",
       "      <td>Secured by a first lien</td>\n",
       "      <td>3944.0</td>\n",
       "      <td>52.000000</td>\n",
       "      <td>63200.0</td>\n",
       "      <td>75.089996</td>\n",
       "      <td>485.0</td>\n",
       "      <td>708.0</td>\n",
       "      <td>1</td>\n",
       "    </tr>\n",
       "    <tr>\n",
       "      <th>4</th>\n",
       "      <td>HUD</td>\n",
       "      <td>Conventional</td>\n",
       "      <td>One-to-four family dwelling (other than manufa...</td>\n",
       "      <td>Refinancing</td>\n",
       "      <td>Owner-occupied as a principal dwelling</td>\n",
       "      <td>424.0</td>\n",
       "      <td>Not applicable</td>\n",
       "      <td>Fresno - CA</td>\n",
       "      <td>Fresno County</td>\n",
       "      <td>14.09</td>\n",
       "      <td>...</td>\n",
       "      <td>Fannie Mae (FNMA)</td>\n",
       "      <td>Not a HOEPA loan</td>\n",
       "      <td>Secured by a first lien</td>\n",
       "      <td>2063.0</td>\n",
       "      <td>61.950001</td>\n",
       "      <td>50000.0</td>\n",
       "      <td>193.210007</td>\n",
       "      <td>447.0</td>\n",
       "      <td>668.0</td>\n",
       "      <td>1</td>\n",
       "    </tr>\n",
       "  </tbody>\n",
       "</table>\n",
       "<p>5 rows × 23 columns</p>\n",
       "</div>"
      ],
      "text/plain": [
       "  agency_abbr loan_type_name  \\\n",
       "0        CFPB   Conventional   \n",
       "1        CFPB   Conventional   \n",
       "2         HUD   Conventional   \n",
       "3         HUD    FHA-insured   \n",
       "4         HUD   Conventional   \n",
       "\n",
       "                                  property_type_name loan_purpose_name  \\\n",
       "0  One-to-four family dwelling (other than manufa...  Home improvement   \n",
       "1  One-to-four family dwelling (other than manufa...     Home purchase   \n",
       "2  One-to-four family dwelling (other than manufa...       Refinancing   \n",
       "3  One-to-four family dwelling (other than manufa...     Home purchase   \n",
       "4  One-to-four family dwelling (other than manufa...       Refinancing   \n",
       "\n",
       "                         owner_occupancy_name  loan_amount_000s  \\\n",
       "0      Owner-occupied as a principal dwelling             570.0   \n",
       "1  Not owner-occupied as a principal dwelling             185.0   \n",
       "2      Owner-occupied as a principal dwelling             417.0   \n",
       "3      Owner-occupied as a principal dwelling             325.0   \n",
       "4      Owner-occupied as a principal dwelling             424.0   \n",
       "\n",
       "  preapproval_name                                msamd_name  \\\n",
       "0   Not applicable  Sacramento, Roseville, Arden-Arcade - CA   \n",
       "1   Not applicable   Riverside, San Bernardino, Ontario - CA   \n",
       "2   Not applicable           Oakland, Hayward, Berkeley - CA   \n",
       "3   Not applicable   Riverside, San Bernardino, Ontario - CA   \n",
       "4   Not applicable                               Fresno - CA   \n",
       "\n",
       "           county_name  census_tract_number  ...  \\\n",
       "0    Sacramento County                61.01  ...   \n",
       "1     Riverside County               432.27  ...   \n",
       "2  Contra Costa County              3020.08  ...   \n",
       "3     Riverside County               432.20  ...   \n",
       "4        Fresno County                14.09  ...   \n",
       "\n",
       "                                 purchaser_type_name hoepa_status_name  \\\n",
       "0  Loan was not originated or was not sold in cal...  Not a HOEPA loan   \n",
       "1  Loan was not originated or was not sold in cal...  Not a HOEPA loan   \n",
       "2  Loan was not originated or was not sold in cal...  Not a HOEPA loan   \n",
       "3  Commercial bank, savings bank or savings assoc...  Not a HOEPA loan   \n",
       "4                                  Fannie Mae (FNMA)  Not a HOEPA loan   \n",
       "\n",
       "          lien_status_name population minority_population  \\\n",
       "0  Secured by a first lien     4824.0           37.230000   \n",
       "1  Secured by a first lien     7404.0           57.520000   \n",
       "2  Secured by a first lien     8787.0           65.129997   \n",
       "3  Secured by a first lien     3944.0           52.000000   \n",
       "4  Secured by a first lien     2063.0           61.950001   \n",
       "\n",
       "  hud_median_family_income  tract_to_msamd_income  \\\n",
       "0                  75200.0              57.419998   \n",
       "1                  63200.0             116.010002   \n",
       "2                  97400.0              97.269997   \n",
       "3                  63200.0              75.089996   \n",
       "4                  50000.0             193.210007   \n",
       "\n",
       "   number_of_owner_occupied_units  number_of_1_to_4_family_units  target  \n",
       "0                           818.0                         1626.0       0  \n",
       "1                          1215.0                         1743.0       0  \n",
       "2                          1463.0                         2164.0       0  \n",
       "3                           485.0                          708.0       1  \n",
       "4                           447.0                          668.0       1  \n",
       "\n",
       "[5 rows x 23 columns]"
      ]
     },
     "execution_count": 4,
     "metadata": {},
     "output_type": "execute_result"
    }
   ],
   "source": [
    "df = pd.read_csv('data/race2_model.csv')\n",
    "df.head()"
   ]
  },
  {
   "cell_type": "code",
   "execution_count": 5,
   "id": "0abec457",
   "metadata": {},
   "outputs": [],
   "source": [
    "#drop columns\n",
    "df = df.drop(['county_name', 'census_tract_number'], axis=1)\n",
    "\n",
    "#sample from the original dataset as it is too large to process all of it\n",
    "df = df.sample(n=100000, random_state=1)"
   ]
  },
  {
   "cell_type": "code",
   "execution_count": 6,
   "id": "52bf26b8",
   "metadata": {},
   "outputs": [],
   "source": [
    "#helper function that filters race so that applicant race is clear and established\n",
    "def filter_helper(race):\n",
    "    if 'appli' in race:\n",
    "        return 1\n",
    "    return 0\n",
    "\n",
    "df['helper'] = df['applicant_race_name_1'].apply(filter_helper)\n",
    "\n",
    "df = df[df['helper'] == 0]\n",
    "\n",
    "df = df.drop(['helper'], axis=1)\n",
    "\n",
    "df = df[df['purchaser_type_name'] != 'Farmer Mac (FAMC)']"
   ]
  },
  {
   "cell_type": "code",
   "execution_count": 7,
   "id": "562535e6",
   "metadata": {},
   "outputs": [
    {
     "data": {
      "text/plain": [
       "White                                        68288\n",
       "Asian                                        15475\n",
       "Black or African American                     4678\n",
       "Native Hawaiian or Other Pacific Islander     1171\n",
       "American Indian or Alaska Native              1025\n",
       "Name: applicant_race_name_1, dtype: int64"
      ]
     },
     "execution_count": 7,
     "metadata": {},
     "output_type": "execute_result"
    }
   ],
   "source": [
    "df['applicant_race_name_1'].value_counts()"
   ]
  },
  {
   "cell_type": "markdown",
   "id": "2ecfa367",
   "metadata": {},
   "source": [
    "### Data Exploration"
   ]
  },
  {
   "cell_type": "code",
   "execution_count": 8,
   "id": "7337b3c5",
   "metadata": {},
   "outputs": [
    {
     "data": {
      "text/plain": [
       "{'Asian': {1: 0.8272697899838449, 0: 0.1727302100161551},\n",
       " 'White': {1: 0.811782450796626, 0: 0.18821754920337394},\n",
       " 'Native Hawaiian or Other Pacific Islander': {1: 0.7301451750640479,\n",
       "  0: 0.2698548249359522},\n",
       " 'Black or African American': {1: 0.7148353997434801, 0: 0.2851646002565199},\n",
       " 'American Indian or Alaska Native': {1: 0.6946341463414634,\n",
       "  0: 0.3053658536585366}}"
      ]
     },
     "execution_count": 8,
     "metadata": {},
     "output_type": "execute_result"
    }
   ],
   "source": [
    "#this shows loan acceptance rates (accepted = 1) per race category\n",
    "prop_dict = {}\n",
    "for i in df['applicant_race_name_1'].unique():\n",
    "    curr_df = df[df['applicant_race_name_1'] == i]\n",
    "    \n",
    "    prop_dict[i] = curr_df['target'].value_counts(normalize=True).to_dict()\n",
    "    \n",
    "prop_dict"
   ]
  },
  {
   "cell_type": "code",
   "execution_count": 11,
   "id": "c77a05c2",
   "metadata": {},
   "outputs": [
    {
     "data": {
      "image/png": "[encoded data removed]",
      "text/plain": [
       "<Figure size 1296x720 with 1 Axes>"
      ]
     },
     "metadata": {
      "needs_background": "light"
     },
     "output_type": "display_data"
    }
   ],
   "source": [
    "#visualization to help see acceptance rates per race\n",
    "race_dict = []\n",
    "acceptance_dict = []\n",
    "for key in prop_dict:\n",
    "    race_dict.append(key)\n",
    "    acceptance_dict.append(prop_dict[key][1])\n",
    "    \n",
    "x_pos = [i for i, _ in enumerate(race_dict)]\n",
    "\n",
    "plt.figure(figsize=(18, 10))\n",
    "\n",
    "plt.barh(x_pos, acceptance_dict, color='gray')\n",
    "plt.ylabel(\"Race\")\n",
    "plt.xlabel(\"Observed Loan Acceptance Rate\")\n",
    "plt.title(\"Observed Loan Acceptance Rate By Race\")\n",
    "\n",
    "plt.yticks(x_pos, race_dict)\n",
    "\n",
    "plt.show()"
   ]
  },
  {
   "cell_type": "markdown",
   "id": "f4c5830d",
   "metadata": {},
   "source": [
    "### Model Building Using Training Data"
   ]
  },
  {
   "cell_type": "code",
   "execution_count": 12,
   "id": "6184faf5",
   "metadata": {},
   "outputs": [],
   "source": [
    "X = df.drop(['target'], axis=1)\n",
    "y = df[['target']]\n",
    "\n",
    "#split into train, test, val\n",
    "X_train, X_test, y_train, y_test = train_test_split(X, y, test_size=0.2, random_state=1)\n",
    "\n",
    "X_train, X_val, y_train, y_val = train_test_split(X_train, y_train, test_size=0.25, random_state=1)"
   ]
  },
  {
   "cell_type": "code",
   "execution_count": 13,
   "id": "2b98cd3b",
   "metadata": {},
   "outputs": [],
   "source": [
    "X_train_race = X_train.pop('applicant_race_name_1')\n",
    "X_test_race = X_test.pop('applicant_race_name_1')\n",
    "X_val_race = X_val.pop('applicant_race_name_1')\n",
    "\n",
    "X_train_sex = X_train.pop('applicant_sex_name')\n",
    "X_test_sex = X_test.pop('applicant_sex_name')\n",
    "X_val_sex = X_val.pop('applicant_sex_name')\n",
    "\n",
    "y_train_target = y_train.pop('target')\n",
    "y_test_target = y_test.pop('target')\n",
    "y_val_target = y_val.pop('target')\n",
    "\n",
    "X_train = pd.get_dummies(X_train, drop_first=False)\n",
    "X_test = pd.get_dummies(X_test, drop_first=False)\n",
    "X_val = pd.get_dummies(X_val, drop_first=False)"
   ]
  },
  {
   "cell_type": "code",
   "execution_count": 15,
   "id": "94846409",
   "metadata": {},
   "outputs": [],
   "source": [
    "classifier = DecisionTreeClassifier(min_samples_leaf=10, max_depth=4) # parameters have not been tuned\n",
    "classifier.fit(X_train, y_train_target)\n",
    "\n",
    "#predicting on same data as training for purpose of example\n",
    "pred_y_train = classifier.predict(X_train)"
   ]
  },
  {
   "cell_type": "code",
   "execution_count": 16,
   "id": "eb09a359",
   "metadata": {},
   "outputs": [
    {
     "data": {
      "text/plain": [
       "1    0.807047\n",
       "0    0.192953\n",
       "Name: target, dtype: float64"
      ]
     },
     "execution_count": 16,
     "metadata": {},
     "output_type": "execute_result"
    }
   ],
   "source": [
    "y_train_target.value_counts(normalize=True)"
   ]
  },
  {
   "cell_type": "code",
   "execution_count": 18,
   "id": "9281ed68",
   "metadata": {},
   "outputs": [
    {
     "data": {
      "text/plain": [
       "{'overall': 0.8958827531674666,\n",
       " 'by_group': {'American Indian or Alaska Native': 0.8883495145631068,\n",
       "  'Asian': 0.8902804538642689,\n",
       "  'Black or African American': 0.8772919605077574,\n",
       "  'Native Hawaiian or Other Pacific Islander': 0.898236092265943,\n",
       "  'White': 0.8985262436349393}}"
      ]
     },
     "execution_count": 18,
     "metadata": {},
     "output_type": "execute_result"
    }
   ],
   "source": [
    "group_summary(accuracy_score , y_train_target, pred_y_train, sensitive_features = X_train_race)"
   ]
  },
  {
   "cell_type": "code",
   "execution_count": 20,
   "id": "32c03e60",
   "metadata": {},
   "outputs": [
    {
     "name": "stdout",
     "output_type": "stream",
     "text": [
      "Demographic parity difference: 0.18\n",
      "Equalized odds difference: 0.2\n",
      "Demographic parity ratio: 0.78\n"
     ]
    }
   ],
   "source": [
    "dpd = demographic_parity_difference(y_train_target, pred_y_train, sensitive_features = X_train_race)\n",
    "eod = equalized_odds_difference(y_train_target, pred_y_train, sensitive_features = X_train_race)\n",
    "dpr = demographic_parity_ratio(y_train_target, pred_y_train, sensitive_features = X_train_race)\n",
    "\n",
    "print(\"Demographic parity difference: {}\".format(round(dpd, 2)))\n",
    "print(\"Equalized odds difference: {}\".format(round(eod, 2)))\n",
    "print(\"Demographic parity ratio: {}\".format(round(dpr, 2)))"
   ]
  },
  {
   "cell_type": "code",
   "execution_count": 22,
   "id": "e9a0b26d",
   "metadata": {},
   "outputs": [
    {
     "name": "stdout",
     "output_type": "stream",
     "text": [
      "Difference in accuracy: 0.02\n"
     ]
    }
   ],
   "source": [
    "sum_acc = group_summary(accuracy_score, y_train_target, pred_y_train, sensitive_features = X_train_race)\n",
    "accd = difference_from_summary(sum_acc)\n",
    "print(\"Difference in accuracy: {}\".format(round(accd, 2)))"
   ]
  },
  {
   "cell_type": "code",
   "execution_count": 24,
   "id": "3b8d2ce6",
   "metadata": {},
   "outputs": [
    {
     "data": {
      "application/vnd.jupyter.widget-view+json": {
       "model_id": "ac723cd1a9d447038a5a69064a560783",
       "version_major": 2,
       "version_minor": 0
      },
      "text/plain": [
       "FairlearnWidget(value={'true_y': [1, 1, 1, 1, 1, 1, 1, 1, 1, 1, 0, 1, 1, 1, 1, 1, 1, 1, 0, 1, 1, 1, 1, 1, 1, 1…"
      ]
     },
     "metadata": {},
     "output_type": "display_data"
    },
    {
     "data": {
      "text/plain": [
       "<fairlearn.widget._fairlearn_dashboard.FairlearnDashboard at 0x7fcc341b9610>"
      ]
     },
     "execution_count": 24,
     "metadata": {},
     "output_type": "execute_result"
    }
   ],
   "source": [
    "FairlearnDashboard(y_true = y_train_target,\n",
    "                   y_pred = pred_y_train,\n",
    "                   sensitive_features = X_train_race,\n",
    "                   sensitive_feature_names = [\"race\"])"
   ]
  },
  {
   "cell_type": "markdown",
   "id": "8a37d42d",
   "metadata": {},
   "source": [
    "### Model Building Using Test Data"
   ]
  },
  {
   "cell_type": "code",
   "execution_count": 25,
   "id": "f3bd0f27",
   "metadata": {},
   "outputs": [],
   "source": [
    "pred_y_test = classifier.predict(X_test)"
   ]
  },
  {
   "cell_type": "code",
   "execution_count": 26,
   "id": "349b3223",
   "metadata": {},
   "outputs": [
    {
     "data": {
      "text/plain": [
       "{'overall': 0.8940864960282436,\n",
       " 'by_group': {'American Indian or Alaska Native': 0.8990384615384616,\n",
       "  'Asian': 0.8822170900692841,\n",
       "  'Black or African American': 0.8651315789473685,\n",
       "  'Native Hawaiian or Other Pacific Islander': 0.8447488584474886,\n",
       "  'White': 0.8993312981538014}}"
      ]
     },
     "execution_count": 26,
     "metadata": {},
     "output_type": "execute_result"
    }
   ],
   "source": [
    "group_summary(accuracy_score , y_test_target, pred_y_test, sensitive_features = X_test_race)"
   ]
  },
  {
   "cell_type": "code",
   "execution_count": 27,
   "id": "08d0cb5c",
   "metadata": {},
   "outputs": [
    {
     "name": "stdout",
     "output_type": "stream",
     "text": [
      "Demographic parity difference: 0.14\n",
      "Equalized odds difference: 0.22\n",
      "Demographic parity ratio: 0.83\n"
     ]
    }
   ],
   "source": [
    "dpd = demographic_parity_difference(y_test_target, pred_y_test, sensitive_features = X_test_race)\n",
    "eod = equalized_odds_difference(y_test_target, pred_y_test, sensitive_features = X_test_race)\n",
    "dpr = demographic_parity_ratio(y_test_target, pred_y_test, sensitive_features = X_test_race)\n",
    "\n",
    "print(\"Demographic parity difference: {}\".format(round(dpd, 2)))\n",
    "print(\"Equalized odds difference: {}\".format(round(eod, 2)))\n",
    "print(\"Demographic parity ratio: {}\".format(round(dpr, 2)))"
   ]
  },
  {
   "cell_type": "code",
   "execution_count": 28,
   "id": "3f66522a",
   "metadata": {},
   "outputs": [
    {
     "name": "stdout",
     "output_type": "stream",
     "text": [
      "Difference in accuracy: 0.05\n"
     ]
    }
   ],
   "source": [
    "sum_acc = group_summary(accuracy_score, y_test_target, pred_y_test, sensitive_features = X_test_race)\n",
    "accd = difference_from_summary(sum_acc)\n",
    "print(\"Difference in accuracy: {}\".format(round(accd, 2)))"
   ]
  },
  {
   "cell_type": "code",
   "execution_count": 29,
   "id": "32b6c537",
   "metadata": {},
   "outputs": [
    {
     "data": {
      "application/vnd.jupyter.widget-view+json": {
       "model_id": "562cdcd9a4534ab08af7c803e48f14cb",
       "version_major": 2,
       "version_minor": 0
      },
      "text/plain": [
       "FairlearnWidget(value={'true_y': [1, 1, 1, 0, 1, 1, 1, 1, 1, 1, 0, 0, 0, 0, 1, 1, 0, 1, 1, 1, 1, 1, 1, 1, 0, 1…"
      ]
     },
     "metadata": {},
     "output_type": "display_data"
    },
    {
     "data": {
      "text/plain": [
       "<fairlearn.widget._fairlearn_dashboard.FairlearnDashboard at 0x7fcc3434cc10>"
      ]
     },
     "execution_count": 29,
     "metadata": {},
     "output_type": "execute_result"
    }
   ],
   "source": [
    "FairlearnDashboard(y_true = y_test_target,\n",
    "                   y_pred = pred_y_test,\n",
    "                   sensitive_features = X_test_race,\n",
    "                   sensitive_feature_names = [\"race\"])"
   ]
  },
  {
   "cell_type": "markdown",
   "id": "80cf1fc6",
   "metadata": {},
   "source": [
    "### Model Building Using Fairness Metrics"
   ]
  },
  {
   "cell_type": "code",
   "execution_count": 32,
   "id": "b4f50d4d",
   "metadata": {},
   "outputs": [],
   "source": [
    "classifer = DecisionTreeClassifier(min_samples_leaf=10, max_depth=4)\n",
    "\n",
    "dp = DemographicParity()\n",
    "reduction = ExponentiatedGradient(classifier, dp)\n",
    "\n",
    "reduction.fit(X_train, y_train_target, sensitive_features=X_train_race)\n",
    "prediction_dp = reduction.predict(X_test)"
   ]
  },
  {
   "cell_type": "code",
   "execution_count": 33,
   "id": "8c97f928",
   "metadata": {},
   "outputs": [],
   "source": [
    "eo = EqualizedOdds()\n",
    "reduction = ExponentiatedGradient(classifier, eo)\n",
    "\n",
    "reduction.fit(X_train, y_train_target, sensitive_features=X_train_race)\n",
    "prediction_eo = reduction.predict(X_test)"
   ]
  },
  {
   "cell_type": "code",
   "execution_count": 36,
   "id": "f7230d2d",
   "metadata": {},
   "outputs": [],
   "source": [
    "optimizer = ThresholdOptimizer(estimator=classifier)\n",
    "\n",
    "optimizer.fit(X_train, y_train_target, sensitive_features=X_train_race)\n",
    "prediction_opt = optimizer.predict(X_test, sensitive_features=X_test_race)"
   ]
  },
  {
   "cell_type": "code",
   "execution_count": 38,
   "id": "3bf937eb",
   "metadata": {},
   "outputs": [
    {
     "data": {
      "image/png": "[encoded data removed]",
      "text/plain": [
       "<Figure size 1080x720 with 1 Axes>"
      ]
     },
     "metadata": {
      "needs_background": "light"
     },
     "output_type": "display_data"
    }
   ],
   "source": [
    "plt.figure(figsize=(15, 10))\n",
    "plt.title('Plot of Chosen Threshold Optimizer Under Demographic Parity Constraint')\n",
    "plot_threshold_optimizer(optimizer, ax=plt.axes())"
   ]
  },
  {
   "cell_type": "code",
   "execution_count": 39,
   "id": "3e396066",
   "metadata": {},
   "outputs": [
    {
     "name": "stdout",
     "output_type": "stream",
     "text": [
      "Demographic parity difference: 0.02\n",
      "Equalized odds difference: 0.1\n",
      "Demographic parity ratio: 0.98\n"
     ]
    }
   ],
   "source": [
    "dpd = demographic_parity_difference(y_test_target, prediction_dp, sensitive_features = X_test_race)\n",
    "eod = equalized_odds_difference(y_test_target, prediction_dp, sensitive_features = X_test_race)\n",
    "dpr = demographic_parity_ratio(y_test_target, prediction_dp, sensitive_features = X_test_race)\n",
    "\n",
    "print(\"Demographic parity difference: {}\".format(round(dpd, 2)))\n",
    "print(\"Equalized odds difference: {}\".format(round(eod, 2)))\n",
    "print(\"Demographic parity ratio: {}\".format(round(dpr, 2)))"
   ]
  },
  {
   "cell_type": "code",
   "execution_count": 40,
   "id": "67a75a14",
   "metadata": {},
   "outputs": [
    {
     "data": {
      "application/vnd.jupyter.widget-view+json": {
       "model_id": "e89dd8766367436eb1593860d9948450",
       "version_major": 2,
       "version_minor": 0
      },
      "text/plain": [
       "FairlearnWidget(value={'true_y': [1, 1, 1, 0, 1, 1, 1, 1, 1, 1, 0, 0, 0, 0, 1, 1, 0, 1, 1, 1, 1, 1, 1, 1, 0, 1…"
      ]
     },
     "metadata": {},
     "output_type": "display_data"
    },
    {
     "data": {
      "text/plain": [
       "<fairlearn.widget._fairlearn_dashboard.FairlearnDashboard at 0x7fcc37def760>"
      ]
     },
     "execution_count": 40,
     "metadata": {},
     "output_type": "execute_result"
    }
   ],
   "source": [
    "FairlearnDashboard(y_true = y_test_target,\n",
    "                   y_pred = {\"prediction_original\" : pred_y_test,\n",
    "                             \"prediction_dp\": prediction_dp,\n",
    "                             \"prediction_opt\": prediction_opt,\n",
    "                             \"prediction_eo\": prediction_eo},\n",
    "                   sensitive_features = X_test_race,\n",
    "                   sensitive_feature_names = [\"race\"])"
   ]
  },
  {
   "cell_type": "markdown",
   "id": "26cef236",
   "metadata": {},
   "source": [
    "### Visualizing Results"
   ]
  },
  {
   "cell_type": "code",
   "execution_count": 50,
   "id": "a7dadefc",
   "metadata": {},
   "outputs": [
    {
     "data": {
      "text/html": [
       "<div>\n",
       "<style scoped>\n",
       "    .dataframe tbody tr th:only-of-type {\n",
       "        vertical-align: middle;\n",
       "    }\n",
       "\n",
       "    .dataframe tbody tr th {\n",
       "        vertical-align: top;\n",
       "    }\n",
       "\n",
       "    .dataframe thead th {\n",
       "        text-align: right;\n",
       "    }\n",
       "</style>\n",
       "<table border=\"1\" class=\"dataframe\">\n",
       "  <thead>\n",
       "    <tr style=\"text-align: right;\">\n",
       "      <th></th>\n",
       "      <th>applicant_race_name_1</th>\n",
       "      <th>applicant_sex_name</th>\n",
       "      <th>prediction</th>\n",
       "    </tr>\n",
       "  </thead>\n",
       "  <tbody>\n",
       "    <tr>\n",
       "      <th>342444</th>\n",
       "      <td>Asian</td>\n",
       "      <td>Male</td>\n",
       "      <td>1</td>\n",
       "    </tr>\n",
       "    <tr>\n",
       "      <th>365643</th>\n",
       "      <td>White</td>\n",
       "      <td>Male</td>\n",
       "      <td>1</td>\n",
       "    </tr>\n",
       "    <tr>\n",
       "      <th>315751</th>\n",
       "      <td>Asian</td>\n",
       "      <td>Male</td>\n",
       "      <td>1</td>\n",
       "    </tr>\n",
       "    <tr>\n",
       "      <th>673351</th>\n",
       "      <td>White</td>\n",
       "      <td>Male</td>\n",
       "      <td>0</td>\n",
       "    </tr>\n",
       "    <tr>\n",
       "      <th>158651</th>\n",
       "      <td>White</td>\n",
       "      <td>Female</td>\n",
       "      <td>1</td>\n",
       "    </tr>\n",
       "  </tbody>\n",
       "</table>\n",
       "</div>"
      ],
      "text/plain": [
       "       applicant_race_name_1 applicant_sex_name  prediction\n",
       "342444                 Asian               Male           1\n",
       "365643                 White               Male           1\n",
       "315751                 Asian               Male           1\n",
       "673351                 White               Male           0\n",
       "158651                 White             Female           1"
      ]
     },
     "execution_count": 50,
     "metadata": {},
     "output_type": "execute_result"
    }
   ],
   "source": [
    "int_df = pd.concat([X_test_race, X_test_sex], axis=1)\n",
    "\n",
    "int_df['prediction'] = prediction_dp\n",
    "\n",
    "int_df.head()"
   ]
  },
  {
   "cell_type": "code",
   "execution_count": 51,
   "id": "b3dc0d92",
   "metadata": {},
   "outputs": [],
   "source": [
    "race_sex_dict = {}\n",
    "for i in int_df['applicant_race_name_1'].unique():\n",
    "    curr_df = int_df[int_df['applicant_race_name_1'] == i]\n",
    "    \n",
    "    male_df = curr_df[curr_df['applicant_sex_name'] == 'Male']\n",
    "    female_df = curr_df[curr_df['applicant_sex_name'] == 'Female']\n",
    "    \n",
    "    male_prop = male_df[male_df['prediction'] == 1].shape[0] / male_df.shape[0]\n",
    "    female_prop = female_df[female_df['prediction'] == 1].shape[0] / female_df.shape[0]\n",
    "    \n",
    "    race_sex_dict[i] = {'Male': male_prop, 'Female': female_prop}"
   ]
  },
  {
   "cell_type": "code",
   "execution_count": 52,
   "id": "82bb31d2",
   "metadata": {},
   "outputs": [],
   "source": [
    "race_names = []\n",
    "males_props = []\n",
    "females_props = []\n",
    "for key in race_sex_dict:\n",
    "    race_names.append(key)\n",
    "    males_props.append(race_sex_dict[key]['Male'])\n",
    "    females_props.append(race_sex_dict[key]['Female'])"
   ]
  },
  {
   "cell_type": "code",
   "execution_count": 63,
   "id": "e39a50e7",
   "metadata": {},
   "outputs": [
    {
     "data": {
      "image/png": "[encoded data removed]",
      "text/plain": [
       "<Figure size 432x288 with 1 Axes>"
      ]
     },
     "metadata": {
      "needs_background": "light"
     },
     "output_type": "display_data"
    },
    {
     "data": {
      "text/plain": [
       "<Figure size 1296x720 with 0 Axes>"
      ]
     },
     "metadata": {},
     "output_type": "display_data"
    }
   ],
   "source": [
    "ind = np.arange(len(race_names))\n",
    "width = 0.4\n",
    "\n",
    "fig, ax = plt.subplots()\n",
    "ax.barh(ind, males_props, width, color='blue', label='Males')\n",
    "ax.barh(ind + width, females_props, width, color='orange', label='Females')\n",
    "plt.ylabel('Race')\n",
    "plt.xlabel('Loan Acceptance Proportion')\n",
    "plt.title('Loan Acceptance Proportion By Race & Gender')\n",
    "\n",
    "ax.set(yticks=ind + width, yticklabels=race_names, ylim=[2*width - 1, len(race_names)])\n",
    "ax.legend(loc='upper left')\n",
    "\n",
    "plt.figure(figsize=(18, 10))\n",
    "\n",
    "plt.show()"
   ]
  },
  {
   "cell_type": "code",
   "execution_count": null,
   "id": "e2b6bf3e",
   "metadata": {},
   "outputs": [],
   "source": []
  }
 ],
 "metadata": {
  "kernelspec": {
   "display_name": "Python 3",
   "language": "python",
   "name": "python3"
  },
  "language_info": {
   "codemirror_mode": {
    "name": "ipython",
    "version": 3
   },
   "file_extension": ".py",
   "mimetype": "text/x-python",
   "name": "python",
   "nbconvert_exporter": "python",
   "pygments_lexer": "ipython3",
   "version": "3.8.5"
  }
 },
 "nbformat": 4,
 "nbformat_minor": 5
}
